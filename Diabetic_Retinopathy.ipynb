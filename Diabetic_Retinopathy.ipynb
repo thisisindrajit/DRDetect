{
  "nbformat": 4,
  "nbformat_minor": 0,
  "metadata": {
    "colab": {
      "name": "Diabetic Retinopathy",
      "provenance": [],
      "toc_visible": true,
      "authorship_tag": "ABX9TyOIYGlYEu3QzewVwAP6wq5i",
      "include_colab_link": true
    },
    "kernelspec": {
      "name": "python3",
      "display_name": "Python 3"
    },
    "language_info": {
      "name": "python"
    }
  },
  "cells": [
    {
      "cell_type": "markdown",
      "metadata": {
        "id": "view-in-github",
        "colab_type": "text"
      },
      "source": [
        "<a href=\"https://colab.research.google.com/github/thisisindrajit/Diabetic-Retinopathy/blob/main/Diabetic_Retinopathy.ipynb\" target=\"_parent\"><img src=\"https://colab.research.google.com/assets/colab-badge.svg\" alt=\"Open In Colab\"/></a>"
      ]
    },
    {
      "cell_type": "markdown",
      "metadata": {
        "id": "C5Ez3hFHbRZy"
      },
      "source": [
        "## References\n",
        "\n",
        "- \n",
        "[Paper](https://www.researchgate.net/publication/241634815_Detection_and_classification_of_diabetic_retinopathy_using_retinal_images)\n",
        "\n",
        "- [Article](https://towardsdatascience.com/blindness-detection-diabetic-retinopathy-using-deep-learning-on-eye-retina-images-baf20fcf409e)\n",
        "\n",
        "- [GitHub](https://github.com/debayanmitra1993-data/Blindness-Detection-Diabetic-Retinopathy-)"
      ]
    },
    {
      "cell_type": "markdown",
      "metadata": {
        "id": "dHlJ9ZB-cQ23"
      },
      "source": [
        "# Imports"
      ]
    },
    {
      "cell_type": "code",
      "metadata": {
        "id": "YOkKy-9vcNX6"
      },
      "source": [
        "# code starts here"
      ],
      "execution_count": null,
      "outputs": []
    }
  ]
}