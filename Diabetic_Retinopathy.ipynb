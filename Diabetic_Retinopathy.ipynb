{
  "nbformat": 4,
  "nbformat_minor": 0,
  "metadata": {
    "colab": {
      "name": "Diabetic Retinopathy",
      "provenance": [],
      "collapsed_sections": [],
      "toc_visible": true,
      "authorship_tag": "ABX9TyML6c1IeKf31jww2wljfnCd",
      "include_colab_link": true
    },
    "kernelspec": {
      "name": "python3",
      "display_name": "Python 3"
    },
    "language_info": {
      "name": "python"
    },
    "accelerator": "GPU"
  },
  "cells": [
    {
      "cell_type": "markdown",
      "metadata": {
        "id": "view-in-github",
        "colab_type": "text"
      },
      "source": [
        "<a href=\"https://colab.research.google.com/github/thisisindrajit/Diabetic-Retinopathy/blob/main/Diabetic_Retinopathy.ipynb\" target=\"_parent\"><img src=\"https://colab.research.google.com/assets/colab-badge.svg\" alt=\"Open In Colab\"/></a>"
      ]
    },
    {
      "cell_type": "markdown",
      "metadata": {
        "id": "C5Ez3hFHbRZy"
      },
      "source": [
        "## References\n",
        "\n",
        "- [Paper 1](https://ieeexplore.ieee.org/document/6139346)\n",
        "\n",
        "- [Paper 2](https://iopscience.iop.org/article/10.1088/1757-899X/1070/1/012049)\n",
        "\n",
        "- [Paper 3](https://www.sciencedirect.com/science/article/pii/S2352914820302069)\n",
        "- \n",
        "[Paper 4](https://www.researchgate.net/publication/241634815_Detection_and_classification_of_diabetic_retinopathy_using_retinal_images)\n",
        "\n",
        "- [Article](https://towardsdatascience.com/blindness-detection-diabetic-retinopathy-using-deep-learning-on-eye-retina-images-baf20fcf409e)\n",
        "\n",
        "- [Sample code](https://github.com/debayanmitra1993-data/Blindness-Detection-Diabetic-Retinopathy-)\n",
        "\n",
        "- [Link to DDR Dataset](https://drive.google.com/drive/folders/1z6tSFmxW_aNayUqVxx6h6bY4kwGzUTEC?usp=sharing)"
      ]
    },
    {
      "cell_type": "markdown",
      "metadata": {
        "id": "t4NFxdo-WNOa"
      },
      "source": [
        "# Mounting Drive"
      ]
    },
    {
      "cell_type": "code",
      "metadata": {
        "id": "NvIsKzI8b3Eu",
        "colab": {
          "base_uri": "https://localhost:8080/"
        },
        "outputId": "f8304f26-6ec4-4202-c7ff-bd5cadb6a7e9"
      },
      "source": [
        "from google.colab import drive\n",
        "drive.mount('/content/drive')"
      ],
      "execution_count": null,
      "outputs": [
        {
          "output_type": "stream",
          "name": "stdout",
          "text": [
            "Mounted at /content/drive\n"
          ]
        }
      ]
    },
    {
      "cell_type": "markdown",
      "metadata": {
        "id": "dHlJ9ZB-cQ23"
      },
      "source": [
        "# Imports"
      ]
    },
    {
      "cell_type": "code",
      "metadata": {
        "id": "YOkKy-9vcNX6"
      },
      "source": [
        "import numpy as np\n",
        "import pandas as pd\n",
        "import imageio\n",
        "import PIL #pillow\n",
        "import cv2\n",
        "import tensorflow as tf\n",
        "from tensorflow import keras\n",
        "import scipy\n",
        "import os\n",
        "import sys\n",
        "import shutil\n",
        "import matplotlib.pyplot as plt"
      ],
      "execution_count": null,
      "outputs": []
    },
    {
      "cell_type": "markdown",
      "metadata": {
        "id": "vsp_HMFWJZ8o"
      },
      "source": [
        "# Modifying directories for easy processing"
      ]
    },
    {
      "cell_type": "code",
      "metadata": {
        "id": "f7XyB93sjIkh"
      },
      "source": [
        "dataset_dir = \"/content/drive/MyDrive/Sem 7/Project/Dataset/DR_grading/\"\n",
        "train_dir = '/content/drive/MyDrive/Sem 7/Project/Dataset/DR_grading/train/'\n",
        "test_dir = '/content/drive/MyDrive/Sem 7/Project/Dataset/DR_grading/test/'\n",
        "valid_dir = '/content/drive/MyDrive/Sem 7/Project/Dataset/DR_grading/valid/'"
      ],
      "execution_count": null,
      "outputs": []
    },
    {
      "cell_type": "markdown",
      "metadata": {
        "id": "olF_EMOpEzvD"
      },
      "source": [
        "## Modifying Training directory"
      ]
    },
    {
      "cell_type": "code",
      "metadata": {
        "id": "g0hQwW0qj2Ru"
      },
      "source": [
        "train_csv = pd.read_csv(dataset_dir + \"train.csv\")"
      ],
      "execution_count": 17,
      "outputs": []
    },
    {
      "cell_type": "code",
      "metadata": {
        "id": "Zh1pLTvarkWH"
      },
      "source": [
        "for i in range(len(train_csv)):\n",
        "  if train_csv[\"output\"][i] != 5: # 5 is ungradeable\n",
        "    file_name = train_csv[\"path\"][i]\n",
        "    output = train_csv[\"output\"][i]\n",
        "\n",
        "    original = train_dir + file_name\n",
        "    target = train_dir + str(output) + '/' + file_name\n",
        "\n",
        "    #print(original, target)\n",
        "    try:\n",
        "      shutil.move(original,target)\n",
        "    except:\n",
        "      continue"
      ],
      "execution_count": 21,
      "outputs": []
    },
    {
      "cell_type": "code",
      "metadata": {
        "colab": {
          "base_uri": "https://localhost:8080/"
        },
        "id": "yhqRbZGbs_tu",
        "outputId": "428fe71c-ea22-4f18-d519-b48bcbb1393c"
      },
      "source": [
        "count = 0\n",
        "\n",
        "for i in range(len(train_csv)):\n",
        "  if train_csv[\"output\"][i] != 5:\n",
        "    count += 1\n",
        "\n",
        "print(count)"
      ],
      "execution_count": null,
      "outputs": [
        {
          "output_type": "stream",
          "name": "stdout",
          "text": [
            "6260\n"
          ]
        }
      ]
    },
    {
      "cell_type": "markdown",
      "metadata": {
        "id": "KmFfnq2GEtkU"
      },
      "source": [
        "## Modifying Validation directory"
      ]
    },
    {
      "cell_type": "code",
      "metadata": {
        "id": "UNAUGGzaDNnJ"
      },
      "source": [
        "valid_csv = pd.read_csv(dataset_dir + \"valid.csv\")"
      ],
      "execution_count": 22,
      "outputs": []
    },
    {
      "cell_type": "code",
      "metadata": {
        "id": "hmuYLoY9EI5x"
      },
      "source": [
        "for i in range(len(valid_csv)):\n",
        "  if valid_csv[\"output\"][i] != 5: # 5 is ungradeable\n",
        "    file_name = valid_csv[\"path\"][i]\n",
        "    output = valid_csv[\"output\"][i]\n",
        "\n",
        "    original = valid_dir + file_name\n",
        "    target = valid_dir + str(output) + '/' + file_name\n",
        "\n",
        "    #print(original, target) \n",
        "    try:\n",
        "      shutil.move(original,target)\n",
        "    except:\n",
        "      continue"
      ],
      "execution_count": 23,
      "outputs": []
    },
    {
      "cell_type": "code",
      "metadata": {
        "id": "Zp4fWgNkFFhh",
        "colab": {
          "base_uri": "https://localhost:8080/"
        },
        "outputId": "4a01a520-c869-43c6-b10e-fed970252a4d"
      },
      "source": [
        "count = 0\n",
        "\n",
        "for i in range(len(valid_csv)):\n",
        "  if valid_csv[\"output\"][i] != 5:\n",
        "    count += 1\n",
        "\n",
        "print(count)"
      ],
      "execution_count": 24,
      "outputs": [
        {
          "output_type": "stream",
          "name": "stdout",
          "text": [
            "2503\n"
          ]
        }
      ]
    },
    {
      "cell_type": "code",
      "metadata": {
        "id": "KgnoJ6-fJYZF"
      },
      "source": [
        ""
      ],
      "execution_count": null,
      "outputs": []
    }
  ]
}