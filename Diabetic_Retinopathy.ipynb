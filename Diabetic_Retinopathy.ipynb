{
  "nbformat": 4,
  "nbformat_minor": 0,
  "metadata": {
    "colab": {
      "name": "Diabetic Retinopathy",
      "provenance": [],
      "collapsed_sections": [
        "mbOSqeMmwrHq",
        "vsp_HMFWJZ8o",
        "YHIIu0cTxXib",
        "HeFm01WtGThu",
        "fKqmKkXixv5b",
        "ycmGRR5XS8XV",
        "3pxE2pX4PifV",
        "Gs0-dVUQ-XnV"
      ],
      "include_colab_link": true
    },
    "kernelspec": {
      "name": "python3",
      "display_name": "Python 3"
    },
    "language_info": {
      "name": "python"
    },
    "accelerator": "GPU"
  },
  "cells": [
    {
      "cell_type": "markdown",
      "metadata": {
        "id": "view-in-github",
        "colab_type": "text"
      },
      "source": [
        "<a href=\"https://colab.research.google.com/github/thisisindrajit/DRDetect/blob/main/Diabetic_Retinopathy.ipynb\" target=\"_parent\"><img src=\"https://colab.research.google.com/assets/colab-badge.svg\" alt=\"Open In Colab\"/></a>"
      ]
    },
    {
      "cell_type": "markdown",
      "metadata": {
        "id": "C5Ez3hFHbRZy"
      },
      "source": [
        "## References\n",
        "\n",
        "- [Paper 1](https://ieeexplore.ieee.org/document/6139346)\n",
        "\n",
        "- [Paper 2](https://iopscience.iop.org/article/10.1088/1757-899X/1070/1/012049)\n",
        "\n",
        "- [Paper 3](https://www.sciencedirect.com/science/article/pii/S2352914820302069)\n",
        "- \n",
        "[Paper 4](https://www.researchgate.net/publication/241634815_Detection_and_classification_of_diabetic_retinopathy_using_retinal_images)\n",
        "\n",
        "- [Article](https://towardsdatascience.com/blindness-detection-diabetic-retinopathy-using-deep-learning-on-eye-retina-images-baf20fcf409e)\n",
        "\n",
        "- [Sample code](https://github.com/debayanmitra1993-data/Blindness-Detection-Diabetic-Retinopathy-)\n",
        "\n",
        "- [Link to DDR Dataset](https://drive.google.com/drive/folders/1z6tSFmxW_aNayUqVxx6h6bY4kwGzUTEC?usp=sharing)\n",
        "\n",
        "- [Reference link for code 1](https://colab.research.google.com/github/tensorflow/docs/blob/master/site/en/tutorials/load_data/images.ipynb#scrollTo=Ea3kbMe-pGDw)"
      ]
    },
    {
      "cell_type": "markdown",
      "metadata": {
        "id": "t4NFxdo-WNOa"
      },
      "source": [
        "# Mounting Drive"
      ]
    },
    {
      "cell_type": "code",
      "metadata": {
        "id": "NvIsKzI8b3Eu",
        "colab": {
          "base_uri": "https://localhost:8080/"
        },
        "outputId": "a9fe7751-fb2f-4dc1-9404-ff0a57e113e0"
      },
      "source": [
        "from google.colab import drive\n",
        "drive.mount('/content/drive')"
      ],
      "execution_count": 1,
      "outputs": [
        {
          "output_type": "stream",
          "name": "stdout",
          "text": [
            "Mounted at /content/drive\n"
          ]
        }
      ]
    },
    {
      "cell_type": "markdown",
      "metadata": {
        "id": "dHlJ9ZB-cQ23"
      },
      "source": [
        "# Imports and initializations"
      ]
    },
    {
      "cell_type": "code",
      "metadata": {
        "id": "YOkKy-9vcNX6"
      },
      "source": [
        "import numpy as np\n",
        "import pandas as pd\n",
        "import imageio\n",
        "import PIL #pillow\n",
        "from PIL import Image\n",
        "import cv2\n",
        "import tensorflow as tf\n",
        "import keras\n",
        "import scipy\n",
        "import os\n",
        "import sys\n",
        "import shutil\n",
        "from collections import Counter\n",
        "import matplotlib.pyplot as plt\n",
        "\n",
        "from keras import models, layers, optimizers, regularizers\n",
        "from keras.layers import Dense,Flatten,Conv2D,Activation,Dropout,Input,ZeroPadding2D\n",
        "from keras.layers import BatchNormalization\n",
        "from keras.preprocessing.image import ImageDataGenerator\n",
        "from keras.models import Model,Sequential\n",
        "from keras.layers.convolutional import Conv2D\n",
        "from keras.layers import MaxPooling2D\n",
        "from keras import regularizers\n",
        "from keras import optimizers\n",
        "from keras.models import load_model\n",
        "from keras import backend as K\n",
        "from keras.callbacks import EarlyStopping, ReduceLROnPlateau, ModelCheckpoint\n",
        "\n",
        "from sklearn.metrics import classification_report\n",
        "from sklearn.metrics import roc_auc_score\n",
        "from sklearn.metrics import cohen_kappa_score\n",
        "\n",
        "# tf.config.experimental_run_functions_eagerly(True)"
      ],
      "execution_count": 2,
      "outputs": []
    },
    {
      "cell_type": "markdown",
      "metadata": {
        "id": "rP78gNzgyjXt"
      },
      "source": [
        "## Variables"
      ]
    },
    {
      "cell_type": "code",
      "metadata": {
        "id": "ctehqXErykyB"
      },
      "source": [
        "dataset_dir = \"/content/drive/MyDrive/Sem 7/Project/Dataset/APTOS-DDR-256/\"\n",
        "train_dir = dataset_dir + \"train_images/\"\n",
        "valid_dir = dataset_dir + \"valid_images/\"\n",
        "\n",
        "batch_size = 15\n",
        "num_classes = 5\n",
        "\n",
        "train_csv = pd.read_csv(dataset_dir + \"train.csv\")\n",
        "valid_csv = pd.read_csv(dataset_dir + \"valid.csv\")"
      ],
      "execution_count": 3,
      "outputs": []
    },
    {
      "cell_type": "code",
      "metadata": {
        "colab": {
          "base_uri": "https://localhost:8080/",
          "height": 417
        },
        "id": "YAPN_somYGQC",
        "outputId": "2e3c010f-b53a-4ca0-f5a2-dd33862e16a0"
      },
      "source": [
        "train_csv"
      ],
      "execution_count": 4,
      "outputs": [
        {
          "output_type": "execute_result",
          "data": {
            "text/html": [
              "<div>\n",
              "<style scoped>\n",
              "    .dataframe tbody tr th:only-of-type {\n",
              "        vertical-align: middle;\n",
              "    }\n",
              "\n",
              "    .dataframe tbody tr th {\n",
              "        vertical-align: top;\n",
              "    }\n",
              "\n",
              "    .dataframe thead th {\n",
              "        text-align: right;\n",
              "    }\n",
              "</style>\n",
              "<table border=\"1\" class=\"dataframe\">\n",
              "  <thead>\n",
              "    <tr style=\"text-align: right;\">\n",
              "      <th></th>\n",
              "      <th>path</th>\n",
              "      <th>output</th>\n",
              "    </tr>\n",
              "  </thead>\n",
              "  <tbody>\n",
              "    <tr>\n",
              "      <th>0</th>\n",
              "      <td>000c1434d8d7.png</td>\n",
              "      <td>2</td>\n",
              "    </tr>\n",
              "    <tr>\n",
              "      <th>1</th>\n",
              "      <td>001639a390f0.png</td>\n",
              "      <td>4</td>\n",
              "    </tr>\n",
              "    <tr>\n",
              "      <th>2</th>\n",
              "      <td>0024cdab0c1e.png</td>\n",
              "      <td>1</td>\n",
              "    </tr>\n",
              "    <tr>\n",
              "      <th>3</th>\n",
              "      <td>002c21358ce6.png</td>\n",
              "      <td>0</td>\n",
              "    </tr>\n",
              "    <tr>\n",
              "      <th>4</th>\n",
              "      <td>005b95c28852.png</td>\n",
              "      <td>0</td>\n",
              "    </tr>\n",
              "    <tr>\n",
              "      <th>...</th>\n",
              "      <td>...</td>\n",
              "      <td>...</td>\n",
              "    </tr>\n",
              "    <tr>\n",
              "      <th>3657</th>\n",
              "      <td>ffa47f6a7bf4.png</td>\n",
              "      <td>2</td>\n",
              "    </tr>\n",
              "    <tr>\n",
              "      <th>3658</th>\n",
              "      <td>ffc04fed30e6.png</td>\n",
              "      <td>0</td>\n",
              "    </tr>\n",
              "    <tr>\n",
              "      <th>3659</th>\n",
              "      <td>ffcf7b45f213.png</td>\n",
              "      <td>2</td>\n",
              "    </tr>\n",
              "    <tr>\n",
              "      <th>3660</th>\n",
              "      <td>ffd97f8cd5aa.png</td>\n",
              "      <td>0</td>\n",
              "    </tr>\n",
              "    <tr>\n",
              "      <th>3661</th>\n",
              "      <td>ffec9a18a3ce.png</td>\n",
              "      <td>2</td>\n",
              "    </tr>\n",
              "  </tbody>\n",
              "</table>\n",
              "<p>3662 rows × 2 columns</p>\n",
              "</div>"
            ],
            "text/plain": [
              "                  path  output\n",
              "0     000c1434d8d7.png       2\n",
              "1     001639a390f0.png       4\n",
              "2     0024cdab0c1e.png       1\n",
              "3     002c21358ce6.png       0\n",
              "4     005b95c28852.png       0\n",
              "...                ...     ...\n",
              "3657  ffa47f6a7bf4.png       2\n",
              "3658  ffc04fed30e6.png       0\n",
              "3659  ffcf7b45f213.png       2\n",
              "3660  ffd97f8cd5aa.png       0\n",
              "3661  ffec9a18a3ce.png       2\n",
              "\n",
              "[3662 rows x 2 columns]"
            ]
          },
          "metadata": {},
          "execution_count": 4
        }
      ]
    },
    {
      "cell_type": "code",
      "metadata": {
        "colab": {
          "base_uri": "https://localhost:8080/"
        },
        "id": "2C-mVrO9YI4M",
        "outputId": "63ea5ec5-5fc4-4cf2-c5d3-d741119c3c53"
      },
      "source": [
        "train_csv.groupby(\"output\").size()"
      ],
      "execution_count": 6,
      "outputs": [
        {
          "output_type": "execute_result",
          "data": {
            "text/plain": [
              "output\n",
              "0    1805\n",
              "1     370\n",
              "2     999\n",
              "3     193\n",
              "4     295\n",
              "dtype: int64"
            ]
          },
          "metadata": {},
          "execution_count": 6
        }
      ]
    },
    {
      "cell_type": "code",
      "metadata": {
        "colab": {
          "base_uri": "https://localhost:8080/",
          "height": 417
        },
        "id": "7dlI3ZLUYiKy",
        "outputId": "7ae4385c-7146-441b-c587-19f2388a0b88"
      },
      "source": [
        "valid_csv"
      ],
      "execution_count": null,
      "outputs": [
        {
          "output_type": "execute_result",
          "data": {
            "text/html": [
              "<div>\n",
              "<style scoped>\n",
              "    .dataframe tbody tr th:only-of-type {\n",
              "        vertical-align: middle;\n",
              "    }\n",
              "\n",
              "    .dataframe tbody tr th {\n",
              "        vertical-align: top;\n",
              "    }\n",
              "\n",
              "    .dataframe thead th {\n",
              "        text-align: right;\n",
              "    }\n",
              "</style>\n",
              "<table border=\"1\" class=\"dataframe\">\n",
              "  <thead>\n",
              "    <tr style=\"text-align: right;\">\n",
              "      <th></th>\n",
              "      <th>path</th>\n",
              "      <th>output</th>\n",
              "    </tr>\n",
              "  </thead>\n",
              "  <tbody>\n",
              "    <tr>\n",
              "      <th>0</th>\n",
              "      <td>20170323093705822.jpg</td>\n",
              "      <td>0</td>\n",
              "    </tr>\n",
              "    <tr>\n",
              "      <th>1</th>\n",
              "      <td>20170323093707381.jpg</td>\n",
              "      <td>0</td>\n",
              "    </tr>\n",
              "    <tr>\n",
              "      <th>2</th>\n",
              "      <td>20170323093821503.jpg</td>\n",
              "      <td>0</td>\n",
              "    </tr>\n",
              "    <tr>\n",
              "      <th>3</th>\n",
              "      <td>20170323093944125.jpg</td>\n",
              "      <td>0</td>\n",
              "    </tr>\n",
              "    <tr>\n",
              "      <th>4</th>\n",
              "      <td>20170323093945725.jpg</td>\n",
              "      <td>0</td>\n",
              "    </tr>\n",
              "    <tr>\n",
              "      <th>...</th>\n",
              "      <td>...</td>\n",
              "      <td>...</td>\n",
              "    </tr>\n",
              "    <tr>\n",
              "      <th>2498</th>\n",
              "      <td>007-6953-400.jpg</td>\n",
              "      <td>4</td>\n",
              "    </tr>\n",
              "    <tr>\n",
              "      <th>2499</th>\n",
              "      <td>007-6956-400.jpg</td>\n",
              "      <td>4</td>\n",
              "    </tr>\n",
              "    <tr>\n",
              "      <th>2500</th>\n",
              "      <td>007-6957-400.jpg</td>\n",
              "      <td>4</td>\n",
              "    </tr>\n",
              "    <tr>\n",
              "      <th>2501</th>\n",
              "      <td>007-6958-400.jpg</td>\n",
              "      <td>4</td>\n",
              "    </tr>\n",
              "    <tr>\n",
              "      <th>2502</th>\n",
              "      <td>007-6959-400.jpg</td>\n",
              "      <td>4</td>\n",
              "    </tr>\n",
              "  </tbody>\n",
              "</table>\n",
              "<p>2503 rows × 2 columns</p>\n",
              "</div>"
            ],
            "text/plain": [
              "                       path  output\n",
              "0     20170323093705822.jpg       0\n",
              "1     20170323093707381.jpg       0\n",
              "2     20170323093821503.jpg       0\n",
              "3     20170323093944125.jpg       0\n",
              "4     20170323093945725.jpg       0\n",
              "...                     ...     ...\n",
              "2498       007-6953-400.jpg       4\n",
              "2499       007-6956-400.jpg       4\n",
              "2500       007-6957-400.jpg       4\n",
              "2501       007-6958-400.jpg       4\n",
              "2502       007-6959-400.jpg       4\n",
              "\n",
              "[2503 rows x 2 columns]"
            ]
          },
          "metadata": {},
          "execution_count": 10
        }
      ]
    },
    {
      "cell_type": "code",
      "metadata": {
        "colab": {
          "base_uri": "https://localhost:8080/",
          "height": 293
        },
        "id": "OGfvOGDGYj2j",
        "outputId": "27be967b-98f0-4b98-c5ec-8cb3e530a3db"
      },
      "source": [
        "valid_csv.groupby(\"output\").size().plot(kind = \"bar\")"
      ],
      "execution_count": null,
      "outputs": [
        {
          "output_type": "execute_result",
          "data": {
            "text/plain": [
              "<matplotlib.axes._subplots.AxesSubplot at 0x7f7073944f10>"
            ]
          },
          "metadata": {},
          "execution_count": 11
        },
        {
          "output_type": "display_data",
          "data": {
            "image/png": "[encoded data removed]",
            "text/plain": [
              "<Figure size 432x288 with 1 Axes>"
            ]
          },
          "metadata": {
            "needs_background": "light"
          }
        }
      ]
    },
    {
      "cell_type": "markdown",
      "metadata": {
        "id": "mbOSqeMmwrHq"
      },
      "source": [
        "## Using Tensorflow with TPU"
      ]
    },
    {
      "cell_type": "code",
      "metadata": {
        "id": "q7uZIoUT48jh"
      },
      "source": [
        "print(\"Tensorflow version \" + tf.__version__)\n",
        "\n",
        "try:\n",
        "  tpu = tf.distribute.cluster_resolver.TPUClusterResolver()  # TPU detection\n",
        "  print('Running on TPU ', tpu.cluster_spec().as_dict()['worker'])\n",
        "except ValueError:\n",
        "  raise BaseException('ERROR: Not connected to a TPU runtime; please see the previous cell in this notebook for instructions!')\n",
        "\n",
        "tf.config.experimental_connect_to_cluster(tpu)\n",
        "tf.tpu.experimental.initialize_tpu_system(tpu)\n",
        "tpu_strategy = tf.distribute.experimental.TPUStrategy(tpu)"
      ],
      "execution_count": null,
      "outputs": []
    },
    {
      "cell_type": "markdown",
      "metadata": {
        "id": "vsp_HMFWJZ8o"
      },
      "source": [
        "# Modifying directories for easy processing by Keras"
      ]
    },
    {
      "cell_type": "markdown",
      "metadata": {
        "id": "olF_EMOpEzvD"
      },
      "source": [
        "## Modifying Training directory"
      ]
    },
    {
      "cell_type": "code",
      "metadata": {
        "id": "Zh1pLTvarkWH"
      },
      "source": [
        "# creating folders and arranging images based on target output\n",
        "for i in range(len(train_csv)):\n",
        "  file_name = train_csv[\"path\"][i]\n",
        "  output = train_csv[\"output\"][i]\n",
        "\n",
        "  original = train_dir + file_name\n",
        "  target = train_dir + str(output) + '/' + file_name\n",
        "\n",
        "  try:\n",
        "    shutil.move(original,target)\n",
        "  except:\n",
        "    continue"
      ],
      "execution_count": null,
      "outputs": []
    },
    {
      "cell_type": "markdown",
      "metadata": {
        "id": "KmFfnq2GEtkU"
      },
      "source": [
        "## Modifying Validation directory"
      ]
    },
    {
      "cell_type": "code",
      "metadata": {
        "id": "hmuYLoY9EI5x"
      },
      "source": [
        "# creating folders and arranging images based on target output\n",
        "for i in range(len(valid_csv)):\n",
        "  file_name = valid_csv[\"path\"][i]\n",
        "  output = valid_csv[\"output\"][i]\n",
        "\n",
        "  original = valid_dir + file_name\n",
        "  target = valid_dir + str(output) + '/' + file_name\n",
        "\n",
        "  try:\n",
        "    shutil.move(original,target)\n",
        "  except:\n",
        "    continue"
      ],
      "execution_count": null,
      "outputs": []
    },
    {
      "cell_type": "markdown",
      "metadata": {
        "id": "YHIIu0cTxXib"
      },
      "source": [
        "# Image pre-processing"
      ]
    },
    {
      "cell_type": "code",
      "metadata": {
        "id": "uR88DiUg0FMY"
      },
      "source": [
        "def crop_center(pil_img, crop_width, crop_height):\n",
        "  img_width, img_height = pil_img.size\n",
        "  return pil_img.crop(((img_width - crop_width) // 2,\n",
        "                        (img_height - crop_height) // 2,\n",
        "                        (img_width + crop_width) // 2,\n",
        "                        (img_height + crop_height) // 2))"
      ],
      "execution_count": null,
      "outputs": []
    },
    {
      "cell_type": "markdown",
      "metadata": {
        "id": "GkJfchiL1p4q"
      },
      "source": [
        "## Preprocessing training dataset"
      ]
    },
    {
      "cell_type": "code",
      "metadata": {
        "id": "vxGRWzpSxxVW"
      },
      "source": [
        "for i in range(len(train_csv)):\n",
        "  if (train_csv[\"output\"][i] != 5): # 5 is ungradeable\n",
        "    file_name = train_csv[\"path\"][i]\n",
        "    output = train_csv[\"output\"][i]\n",
        "    original_img = train_dir + str(output) + '/' + file_name\n",
        "\n",
        "    img = cv2.imread(original_img)\n",
        "\n",
        "    # converting to grayscale\n",
        "    gray_img=cv2.cvtColor(img,cv2.COLOR_BGR2GRAY)\n",
        "\n",
        "    # applying equalize histograms function\n",
        "    gray_img_eqhist=cv2.equalizeHist(gray_img)\n",
        "\n",
        "    # creating CLAHE filter and applying\n",
        "    clahe=cv2.createCLAHE(clipLimit=10)\n",
        "    gray_img_clahe=clahe.apply(gray_img_eqhist)\n",
        "\n",
        "    kernel = np.array([[0, 0, 0],\n",
        "                        [0, 1, 0],\n",
        "                        [0, 0, 0]])\n",
        "\n",
        "    # sharpening the image\n",
        "    sharp = cv2.filter2D(src=gray_img_clahe, ddepth=-1, kernel=kernel)\n",
        "\n",
        "    # inverting (negating) the image \n",
        "    invimage = cv2.bitwise_not(sharp)\n",
        "\n",
        "    preprocessed_image = Image.fromarray(invimage)  \n",
        "\n",
        "    target_path = train_dir + str(output) + '/' + file_name\n",
        "\n",
        "    preprocessed_image.save(target_path)"
      ],
      "execution_count": null,
      "outputs": []
    },
    {
      "cell_type": "markdown",
      "metadata": {
        "id": "-Ew0XVIW1tE4"
      },
      "source": [
        "## Preprocessing validation dataset"
      ]
    },
    {
      "cell_type": "code",
      "metadata": {
        "id": "BYmE23KM1xsY"
      },
      "source": [
        "for i in range(len(valid_csv)):\n",
        "  if (valid_csv[\"output\"][i] != 5): # 5 is ungradeable\n",
        "    file_name = valid_csv[\"path\"][i]\n",
        "    output = valid_csv[\"output\"][i]\n",
        "    original_img = valid_dir + str(output) + '/' + file_name\n",
        "\n",
        "    img = cv2.imread(original_img)\n",
        "\n",
        "    # converting to grayscale\n",
        "    gray_img=cv2.cvtColor(img,cv2.COLOR_BGR2GRAY)\n",
        "\n",
        "    # equalizing all histograms\n",
        "    gray_img_eqhist=cv2.equalizeHist(gray_img)\n",
        "\n",
        "    # creating CLAHE filter and applying it to the equalized histogram image\n",
        "    clahe=cv2.createCLAHE(clipLimit=10)\n",
        "    gray_img_clahe=clahe.apply(gray_img_eqhist)\n",
        "\n",
        "    kernel = np.array([[0, 0, 0],\n",
        "                        [0, 1, 0],\n",
        "                        [0, 0, 0]])\n",
        "\n",
        "    # sharpening the image\n",
        "    sharp = cv2.filter2D(src=gray_img_clahe, ddepth=-1, kernel=kernel)\n",
        "\n",
        "    # inverting (negating) the image \n",
        "    invimage = cv2.bitwise_not(sharp)\n",
        "\n",
        "    preprocessed_image = Image.fromarray(invimage)  \n",
        "\n",
        "    target_path = valid_dir + str(output) + '/' + file_name\n",
        "\n",
        "    preprocessed_image.save(target_path)"
      ],
      "execution_count": null,
      "outputs": []
    },
    {
      "cell_type": "markdown",
      "metadata": {
        "id": "2AVxMZhKKYVf"
      },
      "source": [
        "# Loading data using Keras utility"
      ]
    },
    {
      "cell_type": "markdown",
      "metadata": {
        "id": "n6q3MqYdzgR2"
      },
      "source": [
        "## Using ImageDataGenerator for data augmentation"
      ]
    },
    {
      "cell_type": "code",
      "metadata": {
        "id": "9JZovQSEFh4K"
      },
      "source": [
        "train_datagen = ImageDataGenerator(\n",
        "      rescale=1./255,\n",
        "      rotation_range=40,\n",
        "      width_shift_range=0.2,\n",
        "      height_shift_range=0.2,\n",
        "      shear_range=0.2,\n",
        "      zoom_range=0.2,\n",
        "      horizontal_flip=True,\n",
        "      fill_mode='nearest')\n",
        "\n",
        "# Note that the validation data should not be augmented!\n",
        "test_datagen = ImageDataGenerator(rescale=1./255)"
      ],
      "execution_count": null,
      "outputs": []
    },
    {
      "cell_type": "markdown",
      "metadata": {
        "id": "aiTTxgGWzlPG"
      },
      "source": [
        "## Loading training and validation dataset"
      ]
    },
    {
      "cell_type": "code",
      "metadata": {
        "id": "QlxgPpSFGLr3",
        "colab": {
          "base_uri": "https://localhost:8080/"
        },
        "outputId": "fb18a83c-5d11-4780-f439-950d184930fb"
      },
      "source": [
        "train_generator = train_datagen.flow_from_directory(\n",
        "        train_dir,\n",
        "        # changing image size from 512*512 to 256*256\n",
        "        target_size=(256, 256),\n",
        "        batch_size=batch_size,\n",
        "        class_mode='categorical')\n",
        "\n",
        "validation_generator = test_datagen.flow_from_directory(\n",
        "        valid_dir,\n",
        "        # changing image size from 512*512 to 256*256\n",
        "        target_size=(256, 256),\n",
        "        batch_size=batch_size,\n",
        "        class_mode='categorical')"
      ],
      "execution_count": null,
      "outputs": [
        {
          "output_type": "stream",
          "name": "stdout",
          "text": [
            "Found 3648 images belonging to 5 classes.\n",
            "Found 2503 images belonging to 5 classes.\n"
          ]
        }
      ]
    },
    {
      "cell_type": "code",
      "metadata": {
        "id": "mZ3gLO9-_EGo"
      },
      "source": [
        "train_labels = train_generator.classes \n",
        "valid_labels = validation_generator.classes"
      ],
      "execution_count": null,
      "outputs": []
    },
    {
      "cell_type": "code",
      "metadata": {
        "colab": {
          "base_uri": "https://localhost:8080/"
        },
        "id": "I9Xl6UWSvHSQ",
        "outputId": "4b7a4e22-4211-41a8-cb32-7f47251d61c9"
      },
      "source": [
        "counter = Counter(train_generator.classes)\n",
        "\n",
        "print(counter.items())"
      ],
      "execution_count": null,
      "outputs": [
        {
          "output_type": "stream",
          "name": "stdout",
          "text": [
            "dict_items([(0, 1796), (1, 369), (2, 995), (3, 193), (4, 295)])\n"
          ]
        }
      ]
    },
    {
      "cell_type": "code",
      "metadata": {
        "colab": {
          "base_uri": "https://localhost:8080/"
        },
        "id": "ea0osihAvm9F",
        "outputId": "c01aeea3-acbf-455b-d8a4-3845fc5df54c"
      },
      "source": [
        "counter = Counter(validation_generator.classes)\n",
        "\n",
        "print(counter.items())"
      ],
      "execution_count": null,
      "outputs": [
        {
          "output_type": "stream",
          "name": "stdout",
          "text": [
            "dict_items([(0, 1253), (1, 126), (2, 895), (3, 47), (4, 182)])\n"
          ]
        }
      ]
    },
    {
      "cell_type": "markdown",
      "metadata": {
        "id": "HeFm01WtGThu"
      },
      "source": [
        "## Visualizing augmented data"
      ]
    },
    {
      "cell_type": "code",
      "metadata": {
        "id": "V0HayVqE6rXY"
      },
      "source": [
        "x,y = train_generator.next()"
      ],
      "execution_count": null,
      "outputs": []
    },
    {
      "cell_type": "code",
      "metadata": {
        "id": "uSipBr2aGA-7"
      },
      "source": [
        "from skimage import io\n",
        "\n",
        "def imshow(image_RGB):\n",
        "  io.imshow(image_RGB)\n",
        "  io.show()\n",
        "\n",
        "for i in range(0,11):\n",
        "    image = x[i]\n",
        "    imshow(image)"
      ],
      "execution_count": null,
      "outputs": []
    },
    {
      "cell_type": "markdown",
      "metadata": {
        "id": "fKqmKkXixv5b"
      },
      "source": [
        "# Handling imbalanced data"
      ]
    },
    {
      "cell_type": "markdown",
      "metadata": {
        "id": "4JT-2qq4yjQb"
      },
      "source": [
        "## Generating weight class"
      ]
    },
    {
      "cell_type": "code",
      "metadata": {
        "colab": {
          "base_uri": "https://localhost:8080/"
        },
        "id": "Gd8og6vGx09D",
        "outputId": "be4b7757-88ef-475a-eb4c-dea789c76584"
      },
      "source": [
        "labels_count = dict()\n",
        "\n",
        "# taking only labels from 0 to 4\n",
        "for img_class in range(5):  \n",
        "    labels_count[img_class] = len(train_csv[train_csv['output'] == img_class])\n",
        "\n",
        "total_count = sum(labels_count.values())\n",
        "class_weights = {cls: total_count / count for cls, count in \n",
        "                 enumerate(labels_count.values())}\n",
        "\n",
        "print(class_weights)"
      ],
      "execution_count": null,
      "outputs": [
        {
          "output_type": "stream",
          "name": "stdout",
          "text": [
            "{0: 1.998084902649218, 1: 19.873015873015873, 2: 2.7971403038427165, 3: 53.05084745762712, 4: 13.728070175438596}\n"
          ]
        }
      ]
    },
    {
      "cell_type": "markdown",
      "metadata": {
        "id": "ycmGRR5XS8XV"
      },
      "source": [
        "# Training own model"
      ]
    },
    {
      "cell_type": "code",
      "metadata": {
        "id": "RHhmXjQVHztR"
      },
      "source": [
        "input = Input(shape=(256,256,3))\n",
        "\n",
        "normalization_layer = tf.keras.layers.Rescaling(1./255)(input)\n",
        "\n",
        "conv1 = Conv2D(16, kernel_size=(3,3), activation='relu', strides=(1, 1))(normalization_layer)\n",
        "conv2 = Conv2D(16, kernel_size=(3,3), activation='relu', strides=(1, 1))(conv1)\n",
        "bat1 = BatchNormalization()(conv2)\n",
        "zero1 = ZeroPadding2D(padding=(1, 1))(bat1)\n",
        "\n",
        "conv3 = Conv2D(32, kernel_size=(3,3), activation='relu', padding='valid', kernel_regularizer=regularizers.l2(0.05))(zero1)\n",
        "conv4 = Conv2D(32, kernel_size=(3,3), activation='relu', padding='valid', kernel_regularizer=regularizers.l2(0.05))(conv3)\n",
        "bat2 = BatchNormalization()(conv4)\n",
        "\n",
        "conv5 = Conv2D(64, kernel_size=(3,3), activation='relu',strides=(1, 1), padding='valid')(bat2)\n",
        "conv6 = Conv2D(64, kernel_size=(3,3), activation='relu',strides=(1, 1), padding='valid')(conv5)\n",
        "bat3 = BatchNormalization()(conv6)\n",
        "pool1 = MaxPooling2D(pool_size=(2, 2))(bat3)\n",
        "zero2 = ZeroPadding2D(padding=(1, 1))(pool1)\n",
        "\n",
        "conv7 = Conv2D(128, kernel_size=(3,3), activation='relu', padding='valid', kernel_regularizer=regularizers.l2(0.01))(zero2)\n",
        "conv8 = Conv2D(128, kernel_size=(2,2), activation='relu', strides=(1, 1), padding='valid')(conv7)\n",
        "bat4 = BatchNormalization()(conv8)\n",
        "\n",
        "conv9 = Conv2D(64, kernel_size=(3,3), activation='relu', padding='valid', kernel_regularizer=regularizers.l2(0.02))(bat4)\n",
        "conv10 = Conv2D(64, kernel_size=(3,3), activation='relu', padding='valid', kernel_regularizer=regularizers.l2(0.02))(conv9)\n",
        "bat5 = BatchNormalization()(conv10)\n",
        "\n",
        "conv11 = Conv2D(64, kernel_size=(3,3), activation='relu', strides=(1, 1))(bat5)\n",
        "conv12 = Conv2D(64, kernel_size=(3,3), activation='relu', strides=(1, 1))(conv11)\n",
        "bat6 = BatchNormalization()(conv12)\n",
        "pool2 = MaxPooling2D(pool_size=(2, 2))(bat6)\n",
        "\n",
        "conv13 = Conv2D(64, kernel_size=(3,3), activation='relu', padding='valid', kernel_regularizer=regularizers.l2(0.02))(pool2)\n",
        "conv14 = Conv2D(64, kernel_size=(3,3), activation='relu', padding='valid', kernel_regularizer=regularizers.l2(0.02))(conv13)\n",
        "bat7 = BatchNormalization()(conv14)\n",
        "\n",
        "conv15 = Conv2D(128, kernel_size=(3,3), activation='relu', padding='valid', kernel_regularizer=regularizers.l2(0.05))(bat7)\n",
        "conv16 = Conv2D(128, kernel_size=(2,2), activation='relu', strides=(1, 1), padding='valid')(conv15)\n",
        "bat8 = BatchNormalization()(conv16)\n",
        "\n",
        "flat = Flatten()(bat8)\n",
        "hidden1 = Dense(32, activation='relu')(flat)\n",
        "drop1 = Dropout(0.3)(hidden1)\n",
        "\n",
        "hidden2 = Dense(32, activation='relu')(drop1)\n",
        "drop2 = Dropout(0.2)(hidden2)\n",
        "\n",
        "output = Dense(num_classes, activation='sigmoid')(drop2)\n",
        "\n",
        "model = Model(inputs=input, outputs=output)"
      ],
      "execution_count": null,
      "outputs": []
    },
    {
      "cell_type": "code",
      "metadata": {
        "id": "ieOMy5KrIeT3"
      },
      "source": [
        "learn_rate=.001\n",
        "sgd=tf.keras.optimizers.SGD(learning_rate=learn_rate,momentum=.9,nesterov=False)\n",
        "model.compile(optimizer=sgd,loss='categorical_crossentropy',metrics=['accuracy'])\n",
        "\n",
        "es = EarlyStopping(monitor='val_loss', \n",
        "                   mode='min', \n",
        "                   min_delta=0.001, \n",
        "                   verbose=1, \n",
        "                   patience=40, \n",
        "                   restore_best_weights=True)\n",
        "reduce_lr = ReduceLROnPlateau(monitor='val_loss', \n",
        "                              mode='min', \n",
        "                              factor=0.9, \n",
        "                              patience=15, \n",
        "                              min_lr=1e-20, \n",
        "                              verbose=1, \n",
        "                              cooldown=3)"
      ],
      "execution_count": null,
      "outputs": []
    },
    {
      "cell_type": "code",
      "metadata": {
        "colab": {
          "base_uri": "https://localhost:8080/"
        },
        "id": "nB-SUsjX1Nvb",
        "outputId": "6c252e5a-13df-4d82-c2c5-6c9b276f5a18"
      },
      "source": [
        "model.summary()"
      ],
      "execution_count": null,
      "outputs": [
        {
          "output_type": "stream",
          "name": "stdout",
          "text": [
            "Model: \"model_1\"\n",
            "_________________________________________________________________\n",
            "Layer (type)                 Output Shape              Param #   \n",
            "=================================================================\n",
            "input_3 (InputLayer)         [(None, 256, 256, 3)]     0         \n",
            "_________________________________________________________________\n",
            "rescaling_2 (Rescaling)      (None, 256, 256, 3)       0         \n",
            "_________________________________________________________________\n",
            "conv2d_17 (Conv2D)           (None, 254, 254, 16)      448       \n",
            "_________________________________________________________________\n",
            "conv2d_18 (Conv2D)           (None, 252, 252, 16)      2320      \n",
            "_________________________________________________________________\n",
            "batch_normalization_8 (Batch (None, 252, 252, 16)      64        \n",
            "_________________________________________________________________\n",
            "zero_padding2d_2 (ZeroPaddin (None, 254, 254, 16)      0         \n",
            "_________________________________________________________________\n",
            "conv2d_19 (Conv2D)           (None, 252, 252, 32)      4640      \n",
            "_________________________________________________________________\n",
            "conv2d_20 (Conv2D)           (None, 250, 250, 32)      9248      \n",
            "_________________________________________________________________\n",
            "batch_normalization_9 (Batch (None, 250, 250, 32)      128       \n",
            "_________________________________________________________________\n",
            "conv2d_21 (Conv2D)           (None, 248, 248, 64)      18496     \n",
            "_________________________________________________________________\n",
            "conv2d_22 (Conv2D)           (None, 246, 246, 64)      36928     \n",
            "_________________________________________________________________\n",
            "batch_normalization_10 (Batc (None, 246, 246, 64)      256       \n",
            "_________________________________________________________________\n",
            "max_pooling2d_2 (MaxPooling2 (None, 123, 123, 64)      0         \n",
            "_________________________________________________________________\n",
            "zero_padding2d_3 (ZeroPaddin (None, 125, 125, 64)      0         \n",
            "_________________________________________________________________\n",
            "conv2d_23 (Conv2D)           (None, 123, 123, 128)     73856     \n",
            "_________________________________________________________________\n",
            "conv2d_24 (Conv2D)           (None, 122, 122, 128)     65664     \n",
            "_________________________________________________________________\n",
            "batch_normalization_11 (Batc (None, 122, 122, 128)     512       \n",
            "_________________________________________________________________\n",
            "conv2d_25 (Conv2D)           (None, 120, 120, 64)      73792     \n",
            "_________________________________________________________________\n",
            "conv2d_26 (Conv2D)           (None, 118, 118, 64)      36928     \n",
            "_________________________________________________________________\n",
            "batch_normalization_12 (Batc (None, 118, 118, 64)      256       \n",
            "_________________________________________________________________\n",
            "conv2d_27 (Conv2D)           (None, 116, 116, 64)      36928     \n",
            "_________________________________________________________________\n",
            "conv2d_28 (Conv2D)           (None, 114, 114, 64)      36928     \n",
            "_________________________________________________________________\n",
            "batch_normalization_13 (Batc (None, 114, 114, 64)      256       \n",
            "_________________________________________________________________\n",
            "max_pooling2d_3 (MaxPooling2 (None, 57, 57, 64)        0         \n",
            "_________________________________________________________________\n",
            "conv2d_29 (Conv2D)           (None, 55, 55, 64)        36928     \n",
            "_________________________________________________________________\n",
            "conv2d_30 (Conv2D)           (None, 53, 53, 64)        36928     \n",
            "_________________________________________________________________\n",
            "batch_normalization_14 (Batc (None, 53, 53, 64)        256       \n",
            "_________________________________________________________________\n",
            "conv2d_31 (Conv2D)           (None, 51, 51, 128)       73856     \n",
            "_________________________________________________________________\n",
            "conv2d_32 (Conv2D)           (None, 50, 50, 128)       65664     \n",
            "_________________________________________________________________\n",
            "batch_normalization_15 (Batc (None, 50, 50, 128)       512       \n",
            "_________________________________________________________________\n",
            "flatten_1 (Flatten)          (None, 320000)            0         \n",
            "_________________________________________________________________\n",
            "dense_3 (Dense)              (None, 32)                10240032  \n",
            "_________________________________________________________________\n",
            "dropout_2 (Dropout)          (None, 32)                0         \n",
            "_________________________________________________________________\n",
            "dense_4 (Dense)              (None, 32)                1056      \n",
            "_________________________________________________________________\n",
            "dropout_3 (Dropout)          (None, 32)                0         \n",
            "_________________________________________________________________\n",
            "dense_5 (Dense)              (None, 5)                 165       \n",
            "=================================================================\n",
            "Total params: 10,853,045\n",
            "Trainable params: 10,851,925\n",
            "Non-trainable params: 1,120\n",
            "_________________________________________________________________\n"
          ]
        }
      ]
    },
    {
      "cell_type": "code",
      "metadata": {
        "id": "cuWUKCs5Ie4p",
        "colab": {
          "base_uri": "https://localhost:8080/"
        },
        "outputId": "9813c797-3771-4946-dc02-49aa3520f5fe"
      },
      "source": [
        "with tf.device('/device:GPU:0'):\n",
        "  history = model.fit(\n",
        "        train_generator,\n",
        "        epochs=15,\n",
        "        validation_data=validation_generator,\n",
        "        class_weight = class_weights,\n",
        "        validation_steps=20, #50\n",
        "        verbose=2,\n",
        "        callbacks=[es, reduce_lr])"
      ],
      "execution_count": null,
      "outputs": [
        {
          "output_type": "stream",
          "name": "stdout",
          "text": [
            "Epoch 1/15\n"
          ]
        }
      ]
    },
    {
      "cell_type": "code",
      "metadata": {
        "id": "24aM1I_QIgM3"
      },
      "source": [
        "model.summary()"
      ],
      "execution_count": null,
      "outputs": []
    },
    {
      "cell_type": "markdown",
      "metadata": {
        "id": "fu-wMCnKsbzR"
      },
      "source": [
        "# Training Transfer Learning Model"
      ]
    },
    {
      "cell_type": "markdown",
      "metadata": {
        "id": "GKQIr3CYy7MX"
      },
      "source": [
        "## Getting the base model (Densenet)"
      ]
    },
    {
      "cell_type": "code",
      "metadata": {
        "id": "guY-9pj5sbWR",
        "colab": {
          "base_uri": "https://localhost:8080/"
        },
        "outputId": "00206752-d429-43dd-89f2-21ba25dfb69e"
      },
      "source": [
        "conv_base = tf.keras.applications.Xception(weights='imagenet', include_top=False, input_shape=(256, 256, 3))"
      ],
      "execution_count": null,
      "outputs": [
        {
          "output_type": "stream",
          "name": "stdout",
          "text": [
            "Downloading data from https://storage.googleapis.com/tensorflow/keras-applications/xception/xception_weights_tf_dim_ordering_tf_kernels_notop.h5\n",
            "83689472/83683744 [==============================] - 1s 0us/step\n",
            "83697664/83683744 [==============================] - 1s 0us/step\n"
          ]
        }
      ]
    },
    {
      "cell_type": "markdown",
      "metadata": {
        "id": "boCFtHfPzDLU"
      },
      "source": [
        "## Creating the model"
      ]
    },
    {
      "cell_type": "code",
      "metadata": {
        "id": "48h3yvsVtXC8"
      },
      "source": [
        "model = models.Sequential()\n",
        "\n",
        "model.add(conv_base)\n",
        "model.add(layers.Flatten())\n",
        "\n",
        "model.add(layers.Dense(1024,activation=('relu'),kernel_regularizer=regularizers.l2(0.003)))\n",
        "model.add(layers.Dense(1024,activation=('relu'),kernel_regularizer=regularizers.l2(0.003)))\n",
        "model.add(BatchNormalization())\n",
        "\n",
        "model.add(layers.Dense(512,activation=('relu'),kernel_regularizer=regularizers.l2(0.003))) \n",
        "model.add(layers.Dense(512,activation=('relu'),kernel_regularizer=regularizers.l2(0.003)))\n",
        "model.add(BatchNormalization())\n",
        "\n",
        "model.add(layers.Dense(256,activation=('relu'))) \n",
        "model.add(layers.Dense(128,activation=('relu'))) \n",
        "model.add(layers.Dense(64,activation=('relu'))) \n",
        "\n",
        "model.add(layers.Dense(num_classes, activation='sigmoid'))"
      ],
      "execution_count": null,
      "outputs": []
    },
    {
      "cell_type": "code",
      "metadata": {
        "colab": {
          "base_uri": "https://localhost:8080/"
        },
        "id": "K0Ru4JQyenXT",
        "outputId": "624711e3-1659-4145-d696-57ffc9617b89"
      },
      "source": [
        "print('Number of trainable weights before freezing the conv base:', len(model.trainable_weights))\n",
        "conv_base.trainable = False\n",
        "print('Number of trainable weights after freezing the conv base:', len(model.trainable_weights))"
      ],
      "execution_count": null,
      "outputs": [
        {
          "output_type": "stream",
          "name": "stdout",
          "text": [
            "Number of trainable weights before freezing the conv base: 174\n",
            "Number of trainable weights after freezing the conv base: 20\n"
          ]
        }
      ]
    },
    {
      "cell_type": "code",
      "metadata": {
        "id": "z3zsLfuq7a3j"
      },
      "source": [
        "# custom loss function (Focal loss). Reference - https://towardsdatascience.com/handling-imbalanced-datasets-in-deep-learning-f48407a0e758\n",
        "\n",
        "def focal_loss(y_true, y_pred):\n",
        "  gamma = 2.0\n",
        "  alpha = 0.25\n",
        "  pt_1 = tf.where(tf.equal(y_true, 1), y_pred, tf.ones_like(y_pred))\n",
        "  pt_0 = tf.where(tf.equal(y_true, 0), y_pred, tf.zeros_like(y_pred))\n",
        "  return -K.sum(alpha * K.pow(1. - pt_1, gamma) * K.log(pt_1))-K.sum((1-alpha) * K.pow( pt_0, gamma) * K.log(1. - pt_0))"
      ],
      "execution_count": 4,
      "outputs": []
    },
    {
      "cell_type": "code",
      "metadata": {
        "id": "s8oD1mQRXRFv"
      },
      "source": [
        "learn_rate=.0001\n",
        "\n",
        "#sgd=tf.keras.optimizers.SGD(learning_rate=learn_rate,momentum=.9,nesterov=False)\n",
        "#rms = tf.keras.optimizers.RMSprop(learning_rate=2e-05)\n",
        "\n",
        "adam = tf.keras.optimizers.Adam(learning_rate=learn_rate)\n",
        "\n",
        "model.compile(optimizer=adam,\n",
        "      loss=[focal_loss],\n",
        "      metrics=[\"accuracy\"])\n",
        "\n",
        "es = EarlyStopping(monitor='val_loss', \n",
        "                   mode='min', \n",
        "                   min_delta=0.001, \n",
        "                   verbose=1, \n",
        "                   patience=40, \n",
        "                   restore_best_weights=True)\n",
        "\n",
        "reduce_lr = ReduceLROnPlateau(monitor='val_loss', \n",
        "                              mode='min', \n",
        "                              factor=0.9, \n",
        "                              patience=15, \n",
        "                              min_lr=1e-20, \n",
        "                              verbose=1, \n",
        "                              cooldown=3)"
      ],
      "execution_count": null,
      "outputs": []
    },
    {
      "cell_type": "code",
      "metadata": {
        "colab": {
          "base_uri": "https://localhost:8080/"
        },
        "id": "TDhDzbiFXUdQ",
        "outputId": "dc42bfaa-0979-44b1-df02-2beea1982bb2"
      },
      "source": [
        "model.summary()"
      ],
      "execution_count": null,
      "outputs": [
        {
          "output_type": "stream",
          "name": "stdout",
          "text": [
            "Model: \"sequential\"\n",
            "_________________________________________________________________\n",
            "Layer (type)                 Output Shape              Param #   \n",
            "=================================================================\n",
            "xception (Functional)        (None, 8, 8, 2048)        20861480  \n",
            "_________________________________________________________________\n",
            "flatten (Flatten)            (None, 131072)            0         \n",
            "_________________________________________________________________\n",
            "dense (Dense)                (None, 1024)              134218752 \n",
            "_________________________________________________________________\n",
            "dense_1 (Dense)              (None, 1024)              1049600   \n",
            "_________________________________________________________________\n",
            "batch_normalization_4 (Batch (None, 1024)              4096      \n",
            "_________________________________________________________________\n",
            "dense_2 (Dense)              (None, 512)               524800    \n",
            "_________________________________________________________________\n",
            "dense_3 (Dense)              (None, 512)               262656    \n",
            "_________________________________________________________________\n",
            "batch_normalization_5 (Batch (None, 512)               2048      \n",
            "_________________________________________________________________\n",
            "dense_4 (Dense)              (None, 256)               131328    \n",
            "_________________________________________________________________\n",
            "dense_5 (Dense)              (None, 128)               32896     \n",
            "_________________________________________________________________\n",
            "dense_6 (Dense)              (None, 64)                8256      \n",
            "_________________________________________________________________\n",
            "dense_7 (Dense)              (None, 5)                 325       \n",
            "=================================================================\n",
            "Total params: 157,096,237\n",
            "Trainable params: 136,231,685\n",
            "Non-trainable params: 20,864,552\n",
            "_________________________________________________________________\n"
          ]
        }
      ]
    },
    {
      "cell_type": "code",
      "metadata": {
        "colab": {
          "base_uri": "https://localhost:8080/"
        },
        "id": "tPV5w-g9tk9_",
        "outputId": "040870db-530f-45e4-89c2-7b5ee6ed261e"
      },
      "source": [
        "with tf.device('/device:GPU:0'):\n",
        "  history = model.fit(\n",
        "        train_generator,\n",
        "        epochs=30,\n",
        "        validation_data=validation_generator,\n",
        "        validation_steps=20,\n",
        "        verbose=2,\n",
        "        callbacks=[es, reduce_lr])"
      ],
      "execution_count": null,
      "outputs": [
        {
          "output_type": "stream",
          "name": "stdout",
          "text": [
            "Epoch 1/30\n",
            "244/244 - 1386s - loss: 15.3473 - accuracy: 0.5880 - val_loss: 17.4506 - val_accuracy: 0.5046\n",
            "Epoch 2/30\n",
            "244/244 - 115s - loss: 12.0512 - accuracy: 0.6828 - val_loss: 18.4679 - val_accuracy: 0.5090\n",
            "Epoch 3/30\n",
            "244/244 - 113s - loss: 10.7743 - accuracy: 0.7061 - val_loss: 15.4447 - val_accuracy: 0.5054\n",
            "Epoch 4/30\n",
            "244/244 - 114s - loss: 9.9407 - accuracy: 0.7152 - val_loss: 18.4006 - val_accuracy: 0.5126\n",
            "Epoch 5/30\n",
            "244/244 - 114s - loss: 9.3545 - accuracy: 0.7193 - val_loss: 17.9521 - val_accuracy: 0.5110\n",
            "Epoch 6/30\n",
            "244/244 - 113s - loss: 8.8558 - accuracy: 0.7355 - val_loss: 18.3942 - val_accuracy: 0.5166\n",
            "Epoch 7/30\n",
            "244/244 - 112s - loss: 8.4282 - accuracy: 0.7303 - val_loss: 22.9873 - val_accuracy: 0.5126\n",
            "Epoch 8/30\n",
            "244/244 - 114s - loss: 8.0608 - accuracy: 0.7434 - val_loss: 15.4669 - val_accuracy: 0.5290\n",
            "Epoch 9/30\n",
            "244/244 - 113s - loss: 7.7625 - accuracy: 0.7448 - val_loss: 14.3191 - val_accuracy: 0.5186\n",
            "Epoch 10/30\n",
            "244/244 - 113s - loss: 7.5360 - accuracy: 0.7423 - val_loss: 14.6953 - val_accuracy: 0.5262\n",
            "Epoch 11/30\n",
            "244/244 - 114s - loss: 7.3316 - accuracy: 0.7442 - val_loss: 16.1793 - val_accuracy: 0.5246\n",
            "Epoch 12/30\n",
            "244/244 - 114s - loss: 7.1861 - accuracy: 0.7431 - val_loss: 15.2261 - val_accuracy: 0.5318\n",
            "Epoch 13/30\n",
            "244/244 - 113s - loss: 7.0176 - accuracy: 0.7560 - val_loss: 12.8182 - val_accuracy: 0.5445\n",
            "Epoch 14/30\n",
            "244/244 - 116s - loss: 6.8679 - accuracy: 0.7519 - val_loss: 15.9981 - val_accuracy: 0.5338\n",
            "Epoch 15/30\n",
            "244/244 - 115s - loss: 6.6863 - accuracy: 0.7588 - val_loss: 19.6489 - val_accuracy: 0.5202\n",
            "Epoch 16/30\n",
            "244/244 - 114s - loss: 6.6055 - accuracy: 0.7626 - val_loss: 16.1374 - val_accuracy: 0.5206\n",
            "Epoch 17/30\n",
            "244/244 - 115s - loss: 6.5133 - accuracy: 0.7522 - val_loss: 13.8885 - val_accuracy: 0.5465\n",
            "Epoch 18/30\n",
            "244/244 - 113s - loss: 6.3576 - accuracy: 0.7618 - val_loss: 14.6535 - val_accuracy: 0.5354\n",
            "Epoch 19/30\n",
            "244/244 - 113s - loss: 6.2844 - accuracy: 0.7604 - val_loss: 15.3393 - val_accuracy: 0.5330\n",
            "Epoch 20/30\n",
            "244/244 - 115s - loss: 6.1480 - accuracy: 0.7610 - val_loss: 15.1373 - val_accuracy: 0.5314\n",
            "Epoch 21/30\n",
            "244/244 - 114s - loss: 6.0482 - accuracy: 0.7629 - val_loss: 13.9442 - val_accuracy: 0.5374\n",
            "Epoch 22/30\n",
            "244/244 - 113s - loss: 5.9741 - accuracy: 0.7659 - val_loss: 14.6740 - val_accuracy: 0.5298\n",
            "Epoch 23/30\n",
            "244/244 - 113s - loss: 5.8931 - accuracy: 0.7686 - val_loss: 16.5054 - val_accuracy: 0.5294\n",
            "Epoch 24/30\n",
            "244/244 - 113s - loss: 5.8118 - accuracy: 0.7656 - val_loss: 15.9806 - val_accuracy: 0.5250\n",
            "Epoch 25/30\n",
            "244/244 - 114s - loss: 5.7318 - accuracy: 0.7766 - val_loss: 15.6056 - val_accuracy: 0.5314\n",
            "Epoch 26/30\n",
            "244/244 - 114s - loss: 5.6379 - accuracy: 0.7717 - val_loss: 12.9395 - val_accuracy: 0.5477\n",
            "Epoch 27/30\n",
            "244/244 - 115s - loss: 5.5622 - accuracy: 0.7728 - val_loss: 14.4276 - val_accuracy: 0.5346\n",
            "Epoch 28/30\n",
            "244/244 - 115s - loss: 5.5147 - accuracy: 0.7763 - val_loss: 13.6103 - val_accuracy: 0.5282\n",
            "\n",
            "Epoch 00028: ReduceLROnPlateau reducing learning rate to 1.7999999545281754e-05.\n",
            "Epoch 29/30\n",
            "244/244 - 115s - loss: 5.4044 - accuracy: 0.7766 - val_loss: 12.2614 - val_accuracy: 0.5581\n",
            "Epoch 30/30\n",
            "244/244 - 116s - loss: 5.3542 - accuracy: 0.7799 - val_loss: 17.2143 - val_accuracy: 0.5270\n"
          ]
        }
      ]
    },
    {
      "cell_type": "code",
      "metadata": {
        "id": "4aeF1iFqN3Vg"
      },
      "source": [
        "# model.save('./MyModel_tf',save_format='tf')"
      ],
      "execution_count": null,
      "outputs": []
    },
    {
      "cell_type": "code",
      "metadata": {
        "id": "L2bXsk_nMmrw"
      },
      "source": [
        "# loading the saved model\n",
        "# loaded_model = tf.keras.models.load_model('./MyModel_tf', custom_objects={'focal_loss': focal_loss})"
      ],
      "execution_count": null,
      "outputs": []
    },
    {
      "cell_type": "code",
      "metadata": {
        "id": "3nyaU06eNxaZ"
      },
      "source": [
        "# retraining the model\n",
        "# with tf.device('/device:GPU:0'):\n",
        "#   history = loaded_model.fit(\n",
        "#               train_generator,\n",
        "#               epochs=15,\n",
        "#               validation_data=validation_generator,\n",
        "#               verbose=2,\n",
        "#               callbacks=[es, reduce_lr])"
      ],
      "execution_count": null,
      "outputs": []
    },
    {
      "cell_type": "markdown",
      "metadata": {
        "id": "syOElYM0ChHf"
      },
      "source": [
        "## Plotting training and validation accuracy and loss"
      ]
    },
    {
      "cell_type": "code",
      "metadata": {
        "colab": {
          "base_uri": "https://localhost:8080/",
          "height": 545
        },
        "id": "E0LqLFY8Cgnv",
        "outputId": "425b5cd2-e79f-47fd-a0e0-76961bfd0381"
      },
      "source": [
        "acc = history.history['accuracy']\n",
        "val_acc = history.history['val_accuracy']\n",
        "loss = history.history['loss']\n",
        "val_loss = history.history['val_loss']\n",
        "\n",
        "epochs = range(1, len(acc) + 1)\n",
        "\n",
        "plt.plot(epochs, acc, 'b', color='green', label='Training acc')\n",
        "plt.plot(epochs, val_acc, 'b', label='Validation acc')\n",
        "plt.title('Training and validation accuracy')\n",
        "plt.legend()\n",
        "plt.figure()\n",
        "plt.plot(epochs, loss, 'b', color='green', label='Training loss')\n",
        "plt.plot(epochs, val_loss, 'b', label='Validation loss')\n",
        "plt.title('Training and validation loss')\n",
        "plt.legend()\n",
        "\n",
        "plt.show()"
      ],
      "execution_count": null,
      "outputs": [
        {
          "output_type": "display_data",
          "data": {
            "image/png": "[encoded data removed]",
            "text/plain": [
              "<Figure size 432x288 with 1 Axes>"
            ]
          },
          "metadata": {
            "needs_background": "light"
          }
        },
        {
          "output_type": "display_data",
          "data": {
            "image/png": "[encoded data removed]",
            "text/plain": [
              "<Figure size 432x288 with 1 Axes>"
            ]
          },
          "metadata": {
            "needs_background": "light"
          }
        }
      ]
    },
    {
      "cell_type": "markdown",
      "metadata": {
        "id": "6755B2PECme-"
      },
      "source": [
        "## Saving the model"
      ]
    },
    {
      "cell_type": "code",
      "metadata": {
        "id": "XeiT143c_3je",
        "colab": {
          "base_uri": "https://localhost:8080/"
        },
        "outputId": "0253261f-4c7d-4b1b-e841-26c04b70a014"
      },
      "source": [
        "model.save(\"/content/drive/MyDrive/Sem 7/Project/models/2910_Xception_256*256_focalLoss_APTOSDDR.h5\")"
      ],
      "execution_count": null,
      "outputs": [
        {
          "output_type": "stream",
          "name": "stderr",
          "text": [
            "/usr/local/lib/python3.7/dist-packages/keras/utils/generic_utils.py:497: CustomMaskWarning: Custom mask layers require a config and must override get_config. When loading, the custom mask layer must be passed to the custom_objects argument.\n",
            "  category=CustomMaskWarning)\n"
          ]
        }
      ]
    },
    {
      "cell_type": "markdown",
      "metadata": {
        "id": "eiNZgxE9EQRx"
      },
      "source": [
        "# Loading the trained model"
      ]
    },
    {
      "cell_type": "code",
      "metadata": {
        "id": "omDG9vXnBoRo"
      },
      "source": [
        "load_model = keras.models.load_model(\"/content/drive/MyDrive/Sem 7/Project/models/2910_Xception_256*256_focalLoss_APTOSDDR.h5\",  custom_objects={'focal_loss': focal_loss})"
      ],
      "execution_count": 7,
      "outputs": []
    },
    {
      "cell_type": "code",
      "metadata": {
        "colab": {
          "base_uri": "https://localhost:8080/"
        },
        "id": "0YxFipKs4EOB",
        "outputId": "01ab22a2-d3e7-4a4c-bc70-18f5ee2f9add"
      },
      "source": [
        "load_model.summary()"
      ],
      "execution_count": 8,
      "outputs": [
        {
          "output_type": "stream",
          "name": "stdout",
          "text": [
            "Model: \"sequential\"\n",
            "_________________________________________________________________\n",
            "Layer (type)                 Output Shape              Param #   \n",
            "=================================================================\n",
            "xception (Functional)        (None, 8, 8, 2048)        20861480  \n",
            "_________________________________________________________________\n",
            "flatten (Flatten)            (None, 131072)            0         \n",
            "_________________________________________________________________\n",
            "dense (Dense)                (None, 1024)              134218752 \n",
            "_________________________________________________________________\n",
            "dense_1 (Dense)              (None, 1024)              1049600   \n",
            "_________________________________________________________________\n",
            "batch_normalization_4 (Batch (None, 1024)              4096      \n",
            "_________________________________________________________________\n",
            "dense_2 (Dense)              (None, 512)               524800    \n",
            "_________________________________________________________________\n",
            "dense_3 (Dense)              (None, 512)               262656    \n",
            "_________________________________________________________________\n",
            "batch_normalization_5 (Batch (None, 512)               2048      \n",
            "_________________________________________________________________\n",
            "dense_4 (Dense)              (None, 256)               131328    \n",
            "_________________________________________________________________\n",
            "dense_5 (Dense)              (None, 128)               32896     \n",
            "_________________________________________________________________\n",
            "dense_6 (Dense)              (None, 64)                8256      \n",
            "_________________________________________________________________\n",
            "dense_7 (Dense)              (None, 5)                 325       \n",
            "=================================================================\n",
            "Total params: 157,096,237\n",
            "Trainable params: 136,231,685\n",
            "Non-trainable params: 20,864,552\n",
            "_________________________________________________________________\n"
          ]
        }
      ]
    },
    {
      "cell_type": "code",
      "metadata": {
        "id": "moTSGdl1EZWz"
      },
      "source": [
        "def crop_center(pil_img, crop_width, crop_height):\n",
        "  img_width, img_height = pil_img.size\n",
        "  return pil_img.crop(((img_width - crop_width) // 2,\n",
        "                        (img_height - crop_height) // 2,\n",
        "                        (img_width + crop_width) // 2,\n",
        "                        (img_height + crop_height) // 2))\n",
        "  \n",
        "def expand2square(pil_img, background_color):\n",
        "    width, height = pil_img.size\n",
        "    if width == height:\n",
        "        return pil_img\n",
        "    elif width > height:\n",
        "        result = Image.new(pil_img.mode, (width, width), background_color)\n",
        "        result.paste(pil_img, (0, (width - height) // 2))\n",
        "        return result\n",
        "    else:\n",
        "        result = Image.new(pil_img.mode, (height, height), background_color)\n",
        "        result.paste(pil_img, ((height - width) // 2, 0))\n",
        "        return result\n",
        "\n",
        "def image_preprocessing(img_path):\n",
        "    \n",
        "    image = Image.open(img_path)\n",
        "\n",
        "    if image.size[0] == image.size[1]:\n",
        "      resized_image = image.resize((256,256))\n",
        "    else:\n",
        "      resized_image = crop_center(image,image.size[1],image.size[1]).resize((256,256))\n",
        "\n",
        "    return np.asarray(resized_image)"
      ],
      "execution_count": 9,
      "outputs": []
    },
    {
      "cell_type": "code",
      "metadata": {
        "colab": {
          "base_uri": "https://localhost:8080/",
          "height": 417
        },
        "id": "ANdH3Qk-sRX0",
        "outputId": "c6f80d21-90de-4098-bd12-3f103dc33713"
      },
      "source": [
        "valid_csv = pd.read_csv(dataset_dir + \"valid.csv\")\n",
        "\n",
        "valid_csv"
      ],
      "execution_count": 10,
      "outputs": [
        {
          "output_type": "execute_result",
          "data": {
            "text/html": [
              "<div>\n",
              "<style scoped>\n",
              "    .dataframe tbody tr th:only-of-type {\n",
              "        vertical-align: middle;\n",
              "    }\n",
              "\n",
              "    .dataframe tbody tr th {\n",
              "        vertical-align: top;\n",
              "    }\n",
              "\n",
              "    .dataframe thead th {\n",
              "        text-align: right;\n",
              "    }\n",
              "</style>\n",
              "<table border=\"1\" class=\"dataframe\">\n",
              "  <thead>\n",
              "    <tr style=\"text-align: right;\">\n",
              "      <th></th>\n",
              "      <th>path</th>\n",
              "      <th>output</th>\n",
              "    </tr>\n",
              "  </thead>\n",
              "  <tbody>\n",
              "    <tr>\n",
              "      <th>0</th>\n",
              "      <td>20170323093705822.jpg</td>\n",
              "      <td>0</td>\n",
              "    </tr>\n",
              "    <tr>\n",
              "      <th>1</th>\n",
              "      <td>20170323093707381.jpg</td>\n",
              "      <td>0</td>\n",
              "    </tr>\n",
              "    <tr>\n",
              "      <th>2</th>\n",
              "      <td>20170323093821503.jpg</td>\n",
              "      <td>0</td>\n",
              "    </tr>\n",
              "    <tr>\n",
              "      <th>3</th>\n",
              "      <td>20170323093944125.jpg</td>\n",
              "      <td>0</td>\n",
              "    </tr>\n",
              "    <tr>\n",
              "      <th>4</th>\n",
              "      <td>20170323093945725.jpg</td>\n",
              "      <td>0</td>\n",
              "    </tr>\n",
              "    <tr>\n",
              "      <th>...</th>\n",
              "      <td>...</td>\n",
              "      <td>...</td>\n",
              "    </tr>\n",
              "    <tr>\n",
              "      <th>2498</th>\n",
              "      <td>007-6953-400.jpg</td>\n",
              "      <td>4</td>\n",
              "    </tr>\n",
              "    <tr>\n",
              "      <th>2499</th>\n",
              "      <td>007-6956-400.jpg</td>\n",
              "      <td>4</td>\n",
              "    </tr>\n",
              "    <tr>\n",
              "      <th>2500</th>\n",
              "      <td>007-6957-400.jpg</td>\n",
              "      <td>4</td>\n",
              "    </tr>\n",
              "    <tr>\n",
              "      <th>2501</th>\n",
              "      <td>007-6958-400.jpg</td>\n",
              "      <td>4</td>\n",
              "    </tr>\n",
              "    <tr>\n",
              "      <th>2502</th>\n",
              "      <td>007-6959-400.jpg</td>\n",
              "      <td>4</td>\n",
              "    </tr>\n",
              "  </tbody>\n",
              "</table>\n",
              "<p>2503 rows × 2 columns</p>\n",
              "</div>"
            ],
            "text/plain": [
              "                       path  output\n",
              "0     20170323093705822.jpg       0\n",
              "1     20170323093707381.jpg       0\n",
              "2     20170323093821503.jpg       0\n",
              "3     20170323093944125.jpg       0\n",
              "4     20170323093945725.jpg       0\n",
              "...                     ...     ...\n",
              "2498       007-6953-400.jpg       4\n",
              "2499       007-6956-400.jpg       4\n",
              "2500       007-6957-400.jpg       4\n",
              "2501       007-6958-400.jpg       4\n",
              "2502       007-6959-400.jpg       4\n",
              "\n",
              "[2503 rows x 2 columns]"
            ]
          },
          "metadata": {},
          "execution_count": 10
        }
      ]
    },
    {
      "cell_type": "code",
      "metadata": {
        "id": "7QP07XQWpSHH"
      },
      "source": [
        "x_test = []\n",
        "y_test = []\n",
        "\n",
        "for i in range(len(valid_csv)):\n",
        "\n",
        "  if valid_csv[\"output\"][i] != 5:\n",
        "    \n",
        "    file_name = valid_csv[\"path\"][i]\n",
        "    output = valid_csv[\"output\"][i]\n",
        "\n",
        "    try:\n",
        "      np_img = image_preprocessing(valid_dir + str(output) + '/' + file_name)\n",
        "      expanded_img = np.expand_dims(np_img, axis=0)\n",
        "\n",
        "      x_test.append(expanded_img)\n",
        "      y_test.append(output)\n",
        "\n",
        "    except:\n",
        "      continue"
      ],
      "execution_count": 11,
      "outputs": []
    },
    {
      "cell_type": "code",
      "metadata": {
        "id": "A_qBIeD3pVA5"
      },
      "source": [
        "y_pred_valid_set = []\n",
        "\n",
        "for i in range(len(x_test)):\n",
        "  y_pred = load_model.predict(x_test[i])\n",
        "  y_pred_argmax = np.argmax(y_pred, axis=1)\n",
        "\n",
        "  y_pred_valid_set.append(y_pred_argmax)"
      ],
      "execution_count": 13,
      "outputs": []
    },
    {
      "cell_type": "markdown",
      "metadata": {
        "id": "gab5NUgQDDSU"
      },
      "source": [
        "## Classification Report"
      ]
    },
    {
      "cell_type": "code",
      "metadata": {
        "colab": {
          "base_uri": "https://localhost:8080/"
        },
        "id": "EGJn83OfDHxG",
        "outputId": "138df5f4-ce5b-429b-8ba2-6fe2361ffb09"
      },
      "source": [
        "print(classification_report(y_test, y_pred_valid_set))"
      ],
      "execution_count": 14,
      "outputs": [
        {
          "output_type": "stream",
          "name": "stdout",
          "text": [
            "              precision    recall  f1-score   support\n",
            "\n",
            "           0       0.50      1.00      0.67      1253\n",
            "           1       0.00      0.00      0.00       126\n",
            "           2       0.00      0.00      0.00       895\n",
            "           3       0.00      0.00      0.00        47\n",
            "           4       0.00      0.00      0.00       182\n",
            "\n",
            "    accuracy                           0.50      2503\n",
            "   macro avg       0.10      0.20      0.13      2503\n",
            "weighted avg       0.25      0.50      0.33      2503\n",
            "\n"
          ]
        },
        {
          "output_type": "stream",
          "name": "stderr",
          "text": [
            "/usr/local/lib/python3.7/dist-packages/sklearn/metrics/_classification.py:1272: UndefinedMetricWarning: Precision and F-score are ill-defined and being set to 0.0 in labels with no predicted samples. Use `zero_division` parameter to control this behavior.\n",
            "  _warn_prf(average, modifier, msg_start, len(result))\n"
          ]
        }
      ]
    },
    {
      "cell_type": "markdown",
      "metadata": {
        "id": "6GoyTQW0C-pY"
      },
      "source": [
        "## Confusion Matrix"
      ]
    },
    {
      "cell_type": "code",
      "metadata": {
        "id": "6dNEvmZqtCfj",
        "colab": {
          "base_uri": "https://localhost:8080/"
        },
        "outputId": "b6101c47-ff8d-4660-f9f1-76047ef144cb"
      },
      "source": [
        "from sklearn.metrics import confusion_matrix\n",
        "\n",
        "print(confusion_matrix(y_test, y_pred_valid_set, labels=[0, 1, 2, 3, 4]))"
      ],
      "execution_count": 15,
      "outputs": [
        {
          "output_type": "stream",
          "name": "stdout",
          "text": [
            "[[1253    0    0    0    0]\n",
            " [ 126    0    0    0    0]\n",
            " [ 895    0    0    0    0]\n",
            " [  47    0    0    0    0]\n",
            " [ 182    0    0    0    0]]\n"
          ]
        }
      ]
    },
    {
      "cell_type": "markdown",
      "metadata": {
        "id": "3pxE2pX4PifV"
      },
      "source": [
        "## ROC curves"
      ]
    },
    {
      "cell_type": "code",
      "metadata": {
        "id": "HFhWnkTUChOe",
        "colab": {
          "base_uri": "https://localhost:8080/",
          "height": 514
        },
        "outputId": "29bd3893-2ca5-4e1a-80a8-8d528c595af8"
      },
      "source": [
        "import matplotlib.pyplot as plt \n",
        "from sklearn.preprocessing import LabelBinarizer\n",
        "from sklearn.metrics import roc_curve, auc, roc_auc_score\n",
        "\n",
        "\n",
        "target= [0,1,2,3,4]\n",
        "\n",
        "# set plot figure size\n",
        "fig, c_ax = plt.subplots(1,1, figsize = (12, 8))\n",
        "\n",
        "# function for scoring roc auc score for multi-class\n",
        "def multiclass_roc_auc_score(y_test, y_pred, average=\"macro\"):\n",
        "    lb = LabelBinarizer()\n",
        "    lb.fit(y_test)\n",
        "    y_test = lb.transform(y_test)\n",
        "    y_pred = lb.transform(y_pred)\n",
        "\n",
        "    for (idx, c_label) in enumerate(target):\n",
        "        fpr, tpr, thresholds = roc_curve(y_test[:,idx].astype(int), y_pred[:,idx])\n",
        "        c_ax.plot(fpr, tpr, label = '%s (AUC:%0.2f)'  % (c_label, auc(fpr, tpr)))\n",
        "    c_ax.plot(fpr, fpr, 'b-', label = 'Random Guessing')\n",
        "    return roc_auc_score(y_test, y_pred, average=average)\n",
        "\n",
        "\n",
        "print('ROC AUC score:', multiclass_roc_auc_score(y_test, y_pred_valid_set))\n",
        "\n",
        "c_ax.legend()\n",
        "c_ax.set_xlabel('False Positive Rate')\n",
        "c_ax.set_ylabel('True Positive Rate')\n",
        "plt.show()"
      ],
      "execution_count": null,
      "outputs": [
        {
          "output_type": "stream",
          "name": "stdout",
          "text": [
            "ROC AUC score: 0.5044988913585992\n"
          ]
        },
        {
          "output_type": "display_data",
          "data": {
            "image/png": "[encoded data removed]",
            "text/plain": [
              "<Figure size 864x576 with 1 Axes>"
            ]
          },
          "metadata": {
            "needs_background": "light"
          }
        }
      ]
    },
    {
      "cell_type": "markdown",
      "metadata": {
        "id": "w0ez8ZE7PmXh"
      },
      "source": [
        "## Precision Recall curves"
      ]
    },
    {
      "cell_type": "code",
      "metadata": {
        "colab": {
          "base_uri": "https://localhost:8080/",
          "height": 513
        },
        "id": "y3rT7xg4PmJD",
        "outputId": "e01b5480-9586-4818-9911-e1c6a91731eb"
      },
      "source": [
        "import matplotlib.pyplot as plt \n",
        "from sklearn.preprocessing import LabelBinarizer\n",
        "from sklearn.metrics import precision_recall_curve\n",
        "\n",
        "\n",
        "target= [0,1,2,3,4]\n",
        "\n",
        "# set plot figure size\n",
        "fig, c_ax = plt.subplots(1,1, figsize = (12, 8))\n",
        "\n",
        "y_pred = y_pred_valid_set\n",
        "\n",
        "lb = LabelBinarizer()\n",
        "lb.fit(y_test)\n",
        "y_test = lb.transform(y_test)\n",
        "y_pred = lb.transform(y_pred)\n",
        "\n",
        "n_classes = 5\n",
        "\n",
        "precision = dict()\n",
        "recall = dict()\n",
        "\n",
        "for i in range(n_classes):\n",
        "  precision[i], recall[i], _ = precision_recall_curve(y_test[:, i],\n",
        "                                                        y_pred[:, i])\n",
        "  plt.plot(recall[i], precision[i], lw=2, label='class {}'.format(i))\n",
        "    \n",
        "plt.xlabel(\"recall\")\n",
        "plt.ylabel(\"precision\")\n",
        "plt.legend(loc=\"best\")\n",
        "plt.title(\"precision vs. recall curve\")\n",
        "plt.show()"
      ],
      "execution_count": null,
      "outputs": [
        {
          "output_type": "display_data",
          "data": {
            "image/png": "[encoded data removed]",
            "text/plain": [
              "<Figure size 864x576 with 1 Axes>"
            ]
          },
          "metadata": {
            "needs_background": "light"
          }
        }
      ]
    },
    {
      "cell_type": "markdown",
      "metadata": {
        "id": "Gs0-dVUQ-XnV"
      },
      "source": [
        "## Kappa Score"
      ]
    },
    {
      "cell_type": "code",
      "metadata": {
        "colab": {
          "base_uri": "https://localhost:8080/"
        },
        "id": "sAy25wM3-Zvi",
        "outputId": "deb5a415-0080-4cc0-868a-cd37dd847965"
      },
      "source": [
        "cohen_kappa_score(y_test, y_pred_valid_set)"
      ],
      "execution_count": null,
      "outputs": [
        {
          "output_type": "execute_result",
          "data": {
            "text/plain": [
              "0.019543448178508283"
            ]
          },
          "metadata": {},
          "execution_count": 15
        }
      ]
    },
    {
      "cell_type": "code",
      "metadata": {
        "id": "0cjwRg6nCM5U"
      },
      "source": [
        ""
      ],
      "execution_count": null,
      "outputs": []
    }
  ]
}